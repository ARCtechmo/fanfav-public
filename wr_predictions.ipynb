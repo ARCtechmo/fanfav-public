{
 "cells": [
  {
   "cell_type": "code",
   "execution_count": 23,
   "id": "ebb65631-8452-4621-bbf7-a0afde13a28b",
   "metadata": {},
   "outputs": [
    {
     "name": "stdout",
     "output_type": "stream",
     "text": [
      "\n",
      "=== Main NFL Model Tools Menu ===\n",
      "1. 🧠 Player Performance Dashboard\n",
      "2. 🔍 Lookup Predictions (Logit + Monte Carlo)\n",
      "0. ❌ Exit\n"
     ]
    },
    {
     "name": "stdin",
     "output_type": "stream",
     "text": [
      "Enter your choice:  1\n"
     ]
    },
    {
     "name": "stdout",
     "output_type": "stream",
     "text": [
      "\n",
      "=== Player Performance Dashboard ===\n",
      "Type 'exit' at any prompt to cancel.\n",
      "\n"
     ]
    },
    {
     "name": "stdin",
     "output_type": "stream",
     "text": [
      "Enter player name:  mike evans\n"
     ]
    },
    {
     "name": "stdout",
     "output_type": "stream",
     "text": [
      "🔍 Best match: Mike Evans (score: 100)\n"
     ]
    },
    {
     "name": "stdin",
     "output_type": "stream",
     "text": [
      "Enter season (default: 2025):  2024\n",
      "Enter week (default: 1):  16\n"
     ]
    },
    {
     "name": "stdout",
     "output_type": "stream",
     "text": [
      "\n",
      "📊 === Player Dashboard Summary ===\n",
      "Player: Mike Evans | Week: 16 | Season: 2024\n",
      "DK Salary: $7600\n",
      "Actual FPTS (Week 16): 6.9\n",
      "\n",
      "🔢 Logistic Regression Predictions:\n",
      " - P(Hit DK Value):     0.76 🟡 Medium — Predicted: ✅\n",
      " - P(FPTS ≥ 10):        0.06 🔴 Low — Predicted: ❌\n",
      " - P(Elite Tier 85%):   0.02 🔴 Low — Predicted: ❌\n",
      "\n",
      "🔮 Monte Carlo Forecasts (Rest of Season):\n",
      "\n",
      "--- VALUE ---\n",
      " Avg Hits:         8.01\n",
      " Min–Max Hits:     5 – 10\n",
      " Std Dev:          0.92\n",
      " P(Hit All Weeks): 0.01\n",
      " P(Hit ≥ Half):    1.00\n",
      "\n",
      "--- FPTS10 ---\n",
      " Avg Hits:         5.65\n",
      " Min–Max Hits:     5 – 8\n",
      " Std Dev:          0.56\n",
      " P(Hit All Weeks): 0.00\n",
      " P(Hit ≥ Half):    1.00\n",
      "\n",
      "--- 85PCT ---\n",
      " Avg Hits:         5.22\n",
      " Min–Max Hits:     4 – 7\n",
      " Std Dev:          0.45\n",
      " P(Hit All Weeks): 0.00\n",
      " P(Hit ≥ Half):    0.99\n",
      "\n",
      "✅ Summary Complete.\n",
      "\n",
      "\n",
      "=== Main NFL Model Tools Menu ===\n",
      "1. 🧠 Player Performance Dashboard\n",
      "2. 🔍 Lookup Predictions (Logit + Monte Carlo)\n",
      "0. ❌ Exit\n"
     ]
    },
    {
     "name": "stdin",
     "output_type": "stream",
     "text": [
      "Enter your choice:  0\n"
     ]
    },
    {
     "name": "stdout",
     "output_type": "stream",
     "text": [
      "👋 Exiting. See you next time!\n"
     ]
    }
   ],
   "source": [
    "### CLICK PLAY OR RUN AND FOLLOW THE PROMPT ###\n",
    "# You must use the first AND last player name\n",
    "# Enter 0 when you are finished\n",
    "\n",
    "#### **** DO NOT CHANGE ANYTHING IN THE BLOCK!!! **** ####\n",
    "# === WR Dashboard UI Launcher ===\n",
    "!pip install -q pandas numpy fpdf xlsxwriter fuzzywuzzy python-Levenshtein\n",
    "\n",
    "import pandas as pd\n",
    "import numpy as np\n",
    "from fpdf import FPDF\n",
    "import xlsxwriter\n",
    "from fuzzywuzzy import process\n",
    "from IPython.display import display\n",
    "\n",
    "from wr_logit_mc_predictions_model import run_main_nfl_model_tools_menu\n",
    "\n",
    "logit_df = pd.read_csv(\"wr_logit_predictions_all_models_2017_2024.csv\")\n",
    "mc_dict = {\n",
    "    \"monte_carlo_value\": pd.read_csv(\"wr_monte_carlo_value.csv\").rename(columns={\"player\": \"name\"}),\n",
    "    \"monte_carlo_fpts10\": pd.read_csv(\"wr_monte_carlo_fpts.csv\").rename(columns={\"player\": \"name\"}),\n",
    "    \"monte_carlo_85pct\": pd.read_csv(\"wr_monte_carlo_pct.csv\").rename(columns={\"player\": \"name\"})\n",
    "}\n",
    "\n",
    "run_main_nfl_model_tools_menu(logit_df, mc_dict)\n",
    "\n",
    "\n",
    "nb = nbf.new_notebook()\n",
    "nb.cells = [nbf.new_code_cell(cell_code)]\n",
    "#### **** DO NOT CHANGE ANYTHING IN THE BLOCK!!! **** ####\n",
    "\n",
    "\n",
    "\n"
   ]
  },
  {
   "cell_type": "code",
   "execution_count": null,
   "id": "04566341-f300-4aab-b038-7ed0116489b4",
   "metadata": {},
   "outputs": [],
   "source": []
  }
 ],
 "metadata": {
  "kernelspec": {
   "display_name": "Python 3 (ipykernel)",
   "language": "python",
   "name": "python3"
  },
  "language_info": {
   "codemirror_mode": {
    "name": "ipython",
    "version": 3
   },
   "file_extension": ".py",
   "mimetype": "text/x-python",
   "name": "python",
   "nbconvert_exporter": "python",
   "pygments_lexer": "ipython3",
   "version": "3.11.9"
  }
 },
 "nbformat": 4,
 "nbformat_minor": 5
}
